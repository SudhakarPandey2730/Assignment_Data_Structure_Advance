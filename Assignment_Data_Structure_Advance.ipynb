{
  "nbformat": 4,
  "nbformat_minor": 0,
  "metadata": {
    "colab": {
      "provenance": []
    },
    "kernelspec": {
      "name": "python3",
      "display_name": "Python 3"
    },
    "language_info": {
      "name": "python"
    }
  },
  "cells": [
    {
      "cell_type": "markdown",
      "source": [
        "# **Assignment : Data Structure Advance**"
      ],
      "metadata": {
        "id": "mE1EvAwl3D-t"
      }
    },
    {
      "cell_type": "markdown",
      "source": [
        "**1. Write a code to reverse a string.**"
      ],
      "metadata": {
        "id": "UlztiC6V3kX3"
      }
    },
    {
      "cell_type": "code",
      "source": [
        "# Input string\n",
        "string = \"Hello, World!\"\n",
        "\n",
        "reversed_string = string[::-1]\n",
        "\n",
        "# Display the reversed string\n",
        "print(\"Reversed String:\", reversed_string)\n"
      ],
      "metadata": {
        "colab": {
          "base_uri": "https://localhost:8080/"
        },
        "id": "1YmjWEk73pKq",
        "outputId": "d7e9cea2-3213-4535-ff57-900c61d86e6f"
      },
      "execution_count": null,
      "outputs": [
        {
          "output_type": "stream",
          "name": "stdout",
          "text": [
            "Reversed String: !dlroW ,olleH\n"
          ]
        }
      ]
    },
    {
      "cell_type": "markdown",
      "source": [
        "**2.  Write a code to count the number of vowels in a string.**"
      ],
      "metadata": {
        "id": "8oBl-GZ04LsI"
      }
    },
    {
      "cell_type": "code",
      "source": [
        "# Input string\n",
        "string = \"Hello, World!\"\n",
        "\n",
        "# List of vowels\n",
        "vowels = \"aeiouAEIOU\"\n",
        "\n",
        "# Initialize a counter\n",
        "vowel_count = 0\n",
        "\n",
        "# Loop through each character in the string\n",
        "for char in string:\n",
        "    if char in vowels:\n",
        "        vowel_count += 1\n",
        "\n",
        "# Display the count of vowels\n",
        "print(\"Number of vowels:\", vowel_count)"
      ],
      "metadata": {
        "colab": {
          "base_uri": "https://localhost:8080/"
        },
        "id": "Rj1Lr6rW4Rzo",
        "outputId": "abb61603-7ab1-4cb7-87e1-6a4642bb692c"
      },
      "execution_count": null,
      "outputs": [
        {
          "output_type": "stream",
          "name": "stdout",
          "text": [
            "Number of vowels: 3\n"
          ]
        }
      ]
    },
    {
      "cell_type": "markdown",
      "source": [
        "**3.  Write a code to check if a given string is a palindrome or not.**"
      ],
      "metadata": {
        "id": "JvtRIXEw4kN3"
      }
    },
    {
      "cell_type": "code",
      "source": [
        "# Input string\n",
        "string = \"madam\"\n",
        "\n",
        "# Remove spaces and convert to lowercase (optional)\n",
        "string = string.replace(\" \", \"\").lower()\n",
        "\n",
        "# Check if the string is equal to its reverse\n",
        "if string == string[::-1]:\n",
        "    print(\"The string is a palindrome.\")\n",
        "else:\n",
        "    print(\"The string is not a palindrome.\")"
      ],
      "metadata": {
        "colab": {
          "base_uri": "https://localhost:8080/"
        },
        "id": "HVyP-g8U4qTY",
        "outputId": "077b478b-e297-4530-a63d-da6d54feaf11"
      },
      "execution_count": null,
      "outputs": [
        {
          "output_type": "stream",
          "name": "stdout",
          "text": [
            "The string is a palindrome.\n"
          ]
        }
      ]
    },
    {
      "cell_type": "markdown",
      "source": [
        "**4. Write a code to check if two given strings are anagrams of each other.**"
      ],
      "metadata": {
        "id": "TbGhLRSh5E3f"
      }
    },
    {
      "cell_type": "code",
      "source": [
        "4. # Input strings\n",
        "string1 = \"listen\"\n",
        "string2 = \"silent\"\n",
        "\n",
        "# Remove spaces and convert to lowercase (optional)\n",
        "string1 = string1.replace(\" \", \"\").lower()\n",
        "string2 = string2.replace(\" \", \"\").lower()\n",
        "\n",
        "# Check if sorted versions of the strings are equal\n",
        "if sorted(string1) == sorted(string2):\n",
        "    print(\"The strings are anagrams.\")\n",
        "else:\n",
        "    print(\"The strings are not anagrams.\")\n"
      ],
      "metadata": {
        "colab": {
          "base_uri": "https://localhost:8080/"
        },
        "id": "a4uGC8WQ43J8",
        "outputId": "17b82715-6fbc-46c2-fa65-2496fa61dd01"
      },
      "execution_count": null,
      "outputs": [
        {
          "output_type": "stream",
          "name": "stdout",
          "text": [
            "The strings are anagrams.\n"
          ]
        }
      ]
    },
    {
      "cell_type": "markdown",
      "source": [
        "**5.  Write a code to find all occurrences of a given substring within another string.**"
      ],
      "metadata": {
        "id": "GkN0S5FV5Npq"
      }
    },
    {
      "cell_type": "code",
      "source": [
        "# Input strings\n",
        "main_string = \"Hello, world! Hello, everyone!\"\n",
        "substring = \"Hello\"\n",
        "\n",
        "# Initialize an empty list to store the indices of occurrences\n",
        "occurrences = []\n",
        "start = 0\n",
        "\n",
        "# Loop to find all occurrences\n",
        "while True:\n",
        "    start = main_string.find(substring, start)\n",
        "    if start == -1:\n",
        "        break\n",
        "    occurrences.append(start)\n",
        "    start += len(substring)  # Move past the current found substring\n",
        "\n",
        "# Display the occurrences\n",
        "print(\"Occurrences of substring:\", occurrences)"
      ],
      "metadata": {
        "colab": {
          "base_uri": "https://localhost:8080/"
        },
        "id": "EU0Ed4Xn5C2m",
        "outputId": "1affca28-8c31-48e8-f15c-7a403bf6b16d"
      },
      "execution_count": null,
      "outputs": [
        {
          "output_type": "stream",
          "name": "stdout",
          "text": [
            "Occurrences of substring: [0, 14]\n"
          ]
        }
      ]
    },
    {
      "cell_type": "markdown",
      "source": [
        "**6. Write a code to perform basic string compression using the counts of repeated characters.**"
      ],
      "metadata": {
        "id": "OQktZuJD5iew"
      }
    },
    {
      "cell_type": "code",
      "source": [
        "# Input string\n",
        "string = \"aaabbccccaa\"\n",
        "\n",
        "# Initialize variables\n",
        "compressed_string = \"\"\n",
        "count = 1\n",
        "\n",
        "# Loop through the string\n",
        "for i in range(1, len(string)):\n",
        "    if string[i] == string[i - 1]:\n",
        "        count += 1\n",
        "    else:\n",
        "        compressed_string += string[i - 1] + str(count)\n",
        "        count = 1\n",
        "\n",
        "# Add the last group of characters\n",
        "compressed_string += string[-1] + str(count)\n",
        "\n",
        "# Display the compressed string\n",
        "print(\"Compressed String:\", compressed_string)"
      ],
      "metadata": {
        "colab": {
          "base_uri": "https://localhost:8080/"
        },
        "id": "xpWDtl1I5nsa",
        "outputId": "8809b307-f73c-4573-e43f-bfca8d17917e"
      },
      "execution_count": null,
      "outputs": [
        {
          "output_type": "stream",
          "name": "stdout",
          "text": [
            "Compressed String: a3b2c4a2\n"
          ]
        }
      ]
    },
    {
      "cell_type": "markdown",
      "source": [
        "**7. Write a code to determine if a string has all unique characters.**"
      ],
      "metadata": {
        "id": "gZ-fswgc50CZ"
      }
    },
    {
      "cell_type": "code",
      "source": [
        "# Input string\n",
        "string = \"abcdefg\"\n",
        "\n",
        "# Create an empty set to track seen characters\n",
        "seen_characters = set()\n",
        "\n",
        "# Loop through the string\n",
        "for char in string:\n",
        "    if char in seen_characters:\n",
        "        print(\"The string does not have all unique characters.\")\n",
        "        break\n",
        "    seen_characters.add(char)\n",
        "else:\n",
        "    print(\"The string has all unique characters.\")"
      ],
      "metadata": {
        "colab": {
          "base_uri": "https://localhost:8080/"
        },
        "id": "0KWnjEV758IX",
        "outputId": "8cc7f428-e98c-4b4c-b95c-3f79260be980"
      },
      "execution_count": null,
      "outputs": [
        {
          "output_type": "stream",
          "name": "stdout",
          "text": [
            "The string has all unique characters.\n"
          ]
        }
      ]
    },
    {
      "cell_type": "markdown",
      "source": [
        "**8.  Write a code to convert a given string to uppercase or lowercase.**"
      ],
      "metadata": {
        "id": "7WV1G95g6RC-"
      }
    },
    {
      "cell_type": "code",
      "source": [
        "# Input string\n",
        "string = \"Sudhakar Pandey\"\n",
        "\n",
        "# Converting to lowercase\n",
        "print(f\"The lowercase of string is : {string.lower()}\")\n",
        "\n",
        "# Converting to uppercase\n",
        "print(f\"The uppercase of string is : {string.upper()}\")"
      ],
      "metadata": {
        "colab": {
          "base_uri": "https://localhost:8080/"
        },
        "id": "C6Eg1nnY6VXk",
        "outputId": "4bbcdd2e-89dc-4821-871b-06576c83293d"
      },
      "execution_count": null,
      "outputs": [
        {
          "output_type": "stream",
          "name": "stdout",
          "text": [
            "The lowercase of string is : sudhakar pandey\n",
            "The uppercase of string is : SUDHAKAR PANDEY\n"
          ]
        }
      ]
    },
    {
      "cell_type": "markdown",
      "source": [
        "**9. Write a code to count the number of words in a string.**"
      ],
      "metadata": {
        "id": "hWZCUQWi7KuC"
      }
    },
    {
      "cell_type": "code",
      "source": [
        "# Input String\n",
        "string = \"Data Science\"\n",
        "print(f\"The total count of words in '{string}'  is {len(string)}\")"
      ],
      "metadata": {
        "colab": {
          "base_uri": "https://localhost:8080/"
        },
        "id": "QuWtv91p7Q_Q",
        "outputId": "71e00ead-a606-483b-aece-331e3650f272"
      },
      "execution_count": null,
      "outputs": [
        {
          "output_type": "stream",
          "name": "stdout",
          "text": [
            "The total count of words in 'Data Science'  is 12\n"
          ]
        }
      ]
    },
    {
      "cell_type": "markdown",
      "source": [
        "**10.  Write a code to concatenate two strings without using the + operator.**"
      ],
      "metadata": {
        "id": "tHVi6ZyD73KC"
      }
    },
    {
      "cell_type": "code",
      "source": [
        "# Input Strings\n",
        "string1 = \"My name is \"\n",
        "string2 = \"Sudhakar Pandey\"\n",
        "\n",
        "# concatenate both strings with + operator\n",
        "concatenated_string = ''.join([string1,string2])\n",
        "\n",
        "# Printing the output\n",
        "print(f\"The concatenated string is : {concatenated_string}\")"
      ],
      "metadata": {
        "colab": {
          "base_uri": "https://localhost:8080/"
        },
        "id": "KrLjQmX67_d_",
        "outputId": "73d17af0-ae8d-4069-c8d4-d814d05a8b6d"
      },
      "execution_count": null,
      "outputs": [
        {
          "output_type": "stream",
          "name": "stdout",
          "text": [
            "The concatenated string is : My name is Sudhakar Pandey\n"
          ]
        }
      ]
    },
    {
      "cell_type": "markdown",
      "source": [
        "**11. Write a code to remove all occurrences of a specific element from a list.**"
      ],
      "metadata": {
        "id": "uquveHNX82bB"
      }
    },
    {
      "cell_type": "code",
      "source": [
        "# Input list and element to remove\n",
        "user_list = [1, 2, 3, 4, 2, 5, 2]\n",
        "element_to_remove = 2\n",
        "\n",
        "# Use list comprehension to remove all occurrences of the element\n",
        "filtered_list = [item for item in user_list if item != element_to_remove]\n",
        "\n",
        "# Display the filtered list\n",
        "print(\"Filtered List:\", filtered_list)"
      ],
      "metadata": {
        "colab": {
          "base_uri": "https://localhost:8080/"
        },
        "id": "8IyUqhzM88Mi",
        "outputId": "fb2361fc-861e-4c33-c32c-381f69344a40"
      },
      "execution_count": null,
      "outputs": [
        {
          "output_type": "stream",
          "name": "stdout",
          "text": [
            "Filtered List: [1, 3, 4, 5]\n"
          ]
        }
      ]
    },
    {
      "cell_type": "markdown",
      "source": [
        "**12.  Implement a code to find the second largest number in a given list of integers.**"
      ],
      "metadata": {
        "id": "MU_qp_qM9U7w"
      }
    },
    {
      "cell_type": "code",
      "source": [
        "# Input list of integers\n",
        "numbers = [10, 20, 4, 45, 89, 99]\n",
        "\n",
        "# Initialize variables for the largest and second largest numbers\n",
        "largest = second_largest = float('-inf')\n",
        "\n",
        "# Loop through the list\n",
        "for number in numbers:\n",
        "    if number > largest:\n",
        "        second_largest = largest\n",
        "        largest = number\n",
        "    elif largest > number > second_largest:\n",
        "        second_largest = number\n",
        "\n",
        "# Check if second largest was updated\n",
        "if second_largest == float('-inf'):\n",
        "    print(\"There is no second largest number.\")\n",
        "else:\n",
        "    print(\"The second largest number is:\", second_largest)"
      ],
      "metadata": {
        "colab": {
          "base_uri": "https://localhost:8080/"
        },
        "id": "QT6OnoHb9aHq",
        "outputId": "16d1213a-9ec2-41f0-c1d5-b2004047d449"
      },
      "execution_count": null,
      "outputs": [
        {
          "output_type": "stream",
          "name": "stdout",
          "text": [
            "The second largest number is: 89\n"
          ]
        }
      ]
    },
    {
      "cell_type": "code",
      "source": [],
      "metadata": {
        "id": "AvFG-jR694zn"
      },
      "execution_count": null,
      "outputs": []
    },
    {
      "cell_type": "markdown",
      "source": [
        "**13. Create a code to count the occurrences of each element in a list and return a dictionary with elements as **\n",
        "**keys and their counts as values**."
      ],
      "metadata": {
        "id": "w4axH-kF95to"
      }
    },
    {
      "cell_type": "code",
      "source": [
        "# Input list of elements\n",
        "elements = ['apple', 'banana', 'apple', 'orange', 'banana', 'banana']\n",
        "\n",
        "# Initialize an empty dictionary to store counts\n",
        "count_dict = {}\n",
        "\n",
        "# Loop through the list and count occurrences\n",
        "for item in elements:\n",
        "    if item in count_dict:\n",
        "        count_dict[item] += 1\n",
        "    else:\n",
        "        count_dict[item] = 1\n",
        "\n",
        "# Display the dictionary with counts\n",
        "print(\"Element counts:\", count_dict)"
      ],
      "metadata": {
        "colab": {
          "base_uri": "https://localhost:8080/"
        },
        "id": "Bduw6ke3-EP4",
        "outputId": "ae9cd14c-e1e8-4e4a-cfe2-79988c962215"
      },
      "execution_count": null,
      "outputs": [
        {
          "output_type": "stream",
          "name": "stdout",
          "text": [
            "Element counts: {'apple': 2, 'banana': 3, 'orange': 1}\n"
          ]
        }
      ]
    },
    {
      "cell_type": "markdown",
      "source": [
        "**14.  Write a code to reverse a list in-place without using any built-in** **reverse functions.**\n"
      ],
      "metadata": {
        "id": "fCCM7jbb-9hW"
      }
    },
    {
      "cell_type": "code",
      "source": [
        "# Input list\n",
        "lst = [1, 2, 3, 4, 5]\n",
        "\n",
        "# Initialize pointers\n",
        "left = 0\n",
        "right = len(lst) - 1\n",
        "\n",
        "# Reverse the list in-place\n",
        "while left < right:\n",
        "    # Swap the elements at the left and right pointers\n",
        "    lst[left], lst[right] = lst[right], lst[left]\n",
        "    # Move the pointers towards the center\n",
        "    left += 1\n",
        "    right -= 1\n",
        "\n",
        "# Display the reversed list\n",
        "print(\"Reversed List:\", lst)"
      ],
      "metadata": {
        "colab": {
          "base_uri": "https://localhost:8080/"
        },
        "id": "NUp3K4Op_Ilp",
        "outputId": "e678dc45-b6af-45ee-8110-02c5f49641f3"
      },
      "execution_count": null,
      "outputs": [
        {
          "output_type": "stream",
          "name": "stdout",
          "text": [
            "Reversed List: [5, 4, 3, 2, 1]\n"
          ]
        }
      ]
    },
    {
      "cell_type": "markdown",
      "source": [
        "**15.  Implement a code to find and remove duplicates from a list while preserving the original order of\n",
        "elements.**"
      ],
      "metadata": {
        "id": "etWHe62rAQLZ"
      }
    },
    {
      "cell_type": "code",
      "source": [
        "# Input list with potential duplicates\n",
        "list1 = [1, 2, 2, 3, 4, 4, 5, 1, 6]\n",
        "\n",
        "# Initialize an empty set to track seen elements and an empty list for results\n",
        "seen = set()\n",
        "unique_list1 = []\n",
        "\n",
        "# Loop through the original list\n",
        "for item in list1:\n",
        "    if item not in seen:\n",
        "        unique_list1.append(item)\n",
        "        seen.add(item)\n",
        "\n",
        "# Display the list with duplicates removed\n",
        "print(\"List with duplicates removed:\", unique_list1)"
      ],
      "metadata": {
        "colab": {
          "base_uri": "https://localhost:8080/"
        },
        "id": "KLfiGNd8Aa9q",
        "outputId": "bcdf3393-e6a0-4b90-e46c-9b08c6519d21"
      },
      "execution_count": null,
      "outputs": [
        {
          "output_type": "stream",
          "name": "stdout",
          "text": [
            "List with duplicates removed: [1, 2, 3, 4, 5, 6]\n"
          ]
        }
      ]
    },
    {
      "cell_type": "markdown",
      "source": [
        "**16. Create a code to check if a given list is sorted (either in ascending or descending order) or not.**"
      ],
      "metadata": {
        "id": "v-6ekldJBqnd"
      }
    },
    {
      "cell_type": "code",
      "source": [
        "# Input list\n",
        "lst = [1, 2, 3, 4, 5]\n",
        "\n",
        "# Initialize flags\n",
        "ascending = True\n",
        "descending = True\n",
        "\n",
        "# Loop through the list to check sorting order\n",
        "for i in range(len(lst) - 1):\n",
        "    if lst[i] > lst[i + 1]:\n",
        "        ascending = False\n",
        "    if lst[i] < lst[i + 1]:\n",
        "        descending = False\n",
        "\n",
        "# Determine the sorting status\n",
        "if ascending:\n",
        "    print(\"The list is sorted in ascending order.\")\n",
        "elif descending:\n",
        "    print(\"The list is sorted in descending order.\")\n",
        "else:\n",
        "    print(\"The list is not sorted.\")"
      ],
      "metadata": {
        "colab": {
          "base_uri": "https://localhost:8080/"
        },
        "id": "kdk5_5_2B102",
        "outputId": "767e6606-4a94-4441-d1b2-cf400a9f96ad"
      },
      "execution_count": null,
      "outputs": [
        {
          "output_type": "stream",
          "name": "stdout",
          "text": [
            "The list is sorted in ascending order.\n"
          ]
        }
      ]
    },
    {
      "cell_type": "markdown",
      "source": [
        "**17.  Write a code to merge two sorted lists into a single sorted list.**"
      ],
      "metadata": {
        "id": "zR6irqtSCIGI"
      }
    },
    {
      "cell_type": "code",
      "source": [
        "# Input sorted lists\n",
        "list1 = [1, 3, 5, 7]\n",
        "list2 = [2, 4, 6, 8]\n",
        "\n",
        "# Initialize pointers and result list\n",
        "i, j = 0, 0\n",
        "merged_list = []\n",
        "\n",
        "# Merge the lists\n",
        "while i < len(list1) and j < len(list2):\n",
        "    if list1[i] < list2[j]:\n",
        "        merged_list.append(list1[i])\n",
        "        i += 1\n",
        "    else:\n",
        "        merged_list.append(list2[j])\n",
        "        j += 1\n",
        "\n",
        "# Append remaining elements from list1, if any\n",
        "while i < len(list1):\n",
        "    merged_list.append(list1[i])\n",
        "    i += 1\n",
        "\n",
        "# Append remaining elements from list2, if any\n",
        "while j < len(list2):\n",
        "    merged_list.append(list2[j])\n",
        "    j += 1\n",
        "\n",
        "# Display the merged list\n",
        "print(\"Merged Sorted List:\", merged_list)"
      ],
      "metadata": {
        "colab": {
          "base_uri": "https://localhost:8080/"
        },
        "id": "B-lWlqTBCSWl",
        "outputId": "e5ee5d28-6166-4610-c2c2-ea0f3d5b3202"
      },
      "execution_count": null,
      "outputs": [
        {
          "output_type": "stream",
          "name": "stdout",
          "text": [
            "Merged Sorted List: [1, 2, 3, 4, 5, 6, 7, 8]\n"
          ]
        }
      ]
    },
    {
      "cell_type": "markdown",
      "source": [
        "**18. Implement a code to find the intersection of two given lists.**"
      ],
      "metadata": {
        "id": "U4S-0AXACS6G"
      }
    },
    {
      "cell_type": "code",
      "source": [
        "# Input lists\n",
        "list1 = [1, 2, 3, 4, 5]\n",
        "list2 = [4, 5, 6, 7, 8]\n",
        "\n",
        "# Find the intersection of the two lists\n",
        "intersection = [item for item in list1 if item in list2]\n",
        "\n",
        "# Display the intersection\n",
        "print(\"Intersection of the two lists:\", intersection)"
      ],
      "metadata": {
        "colab": {
          "base_uri": "https://localhost:8080/"
        },
        "id": "08wya3FACtje",
        "outputId": "bbf3b2db-ac08-47be-87a8-bbf49a5066a7"
      },
      "execution_count": null,
      "outputs": [
        {
          "output_type": "stream",
          "name": "stdout",
          "text": [
            "Intersection of the two lists: [4, 5]\n"
          ]
        }
      ]
    },
    {
      "cell_type": "markdown",
      "source": [
        "**19.  Create a code to find the union of two lists without duplicates.**"
      ],
      "metadata": {
        "id": "s6Q3i2FACuEp"
      }
    },
    {
      "cell_type": "code",
      "source": [
        "# Input lists\n",
        "list1 = [1, 2, 3, 4, 5]\n",
        "list2 = [4, 5, 6, 7, 8]\n",
        "\n",
        "# Find the union of the two lists without duplicates\n",
        "union = list(set(list1) | set(list2))\n",
        "\n",
        "# Display the union\n",
        "print(\"Union of the two lists:\", union)"
      ],
      "metadata": {
        "colab": {
          "base_uri": "https://localhost:8080/"
        },
        "id": "bcUr1CdXC8VG",
        "outputId": "be912455-1a13-4fc7-d2a2-d35eb70a2d20"
      },
      "execution_count": null,
      "outputs": [
        {
          "output_type": "stream",
          "name": "stdout",
          "text": [
            "Union of the two lists: [1, 2, 3, 4, 5, 6, 7, 8]\n"
          ]
        }
      ]
    },
    {
      "cell_type": "markdown",
      "source": [
        "**20. Write a code to shuffle a given list randomly without using any built-in shuffle functions.**"
      ],
      "metadata": {
        "id": "Hd37blI1C80H"
      }
    },
    {
      "cell_type": "code",
      "source": [
        "import random\n",
        "\n",
        "# Input list\n",
        "lst = [1, 2, 3, 4, 5]\n",
        "\n",
        "# Get the length of the list\n",
        "n = len(lst)\n",
        "\n",
        "# Shuffle the list using the Fisher-Yates algorithm\n",
        "for i in range(n - 1, 0, -1):\n",
        "    # Generate a random index\n",
        "    j = random.randint(0, i)\n",
        "    # Swap elements at index i and j\n",
        "    lst[i], lst[j] = lst[j], lst[i]\n",
        "\n",
        "# Display the shuffled list\n",
        "print(\"Shuffled List:\", lst)"
      ],
      "metadata": {
        "colab": {
          "base_uri": "https://localhost:8080/"
        },
        "id": "xY1TlXZ_DVqw",
        "outputId": "c41eb7b5-7d3e-4f6f-d60f-69a050b886c7"
      },
      "execution_count": null,
      "outputs": [
        {
          "output_type": "stream",
          "name": "stdout",
          "text": [
            "Shuffled List: [1, 3, 5, 2, 4]\n"
          ]
        }
      ]
    },
    {
      "cell_type": "markdown",
      "source": [
        "**21.  Write a code that takes two tuples as input and returns a new tuple containing elements that are\n",
        "common to both input tuples.**"
      ],
      "metadata": {
        "id": "nqbMLRx0DWHv"
      }
    },
    {
      "cell_type": "code",
      "source": [
        "# Input tuples\n",
        "tuple1 = (1, 2, 3, 4, 5)\n",
        "tuple2 = (4, 5, 6, 7, 8)\n",
        "\n",
        "# Find common elements\n",
        "common_elements = tuple(item for item in tuple1 if item in tuple2)\n",
        "\n",
        "# Display the resulting tuple\n",
        "print(\"Common elements:\", common_elements)"
      ],
      "metadata": {
        "colab": {
          "base_uri": "https://localhost:8080/"
        },
        "id": "pjpl7pQnD9k9",
        "outputId": "80914c7e-769e-40bc-bde8-a67dd89af829"
      },
      "execution_count": null,
      "outputs": [
        {
          "output_type": "stream",
          "name": "stdout",
          "text": [
            "Common elements: (4, 5)\n"
          ]
        }
      ]
    },
    {
      "cell_type": "markdown",
      "source": [
        "**22. Create a code that prompts the user to enter two sets of integers separated by commas. Then, print the\n",
        "intersection of these two sets.**"
      ],
      "metadata": {
        "id": "tVjkWIzCD-Cx"
      }
    },
    {
      "cell_type": "code",
      "source": [
        "# Prompt the user to enter the first set of integers\n",
        "input1 = input(\"Enter the first set of integers separated by commas: \")\n",
        "# Convert the input string to a set of integers\n",
        "set1 = set(map(int, input1.split(',')))\n",
        "\n",
        "# Prompt the user to enter the second set of integers\n",
        "input2 = input(\"Enter the second set of integers separated by commas: \")\n",
        "# Convert the input string to a set of integers\n",
        "set2 = set(map(int, input2.split(',')))\n",
        "\n",
        "# Find the intersection of the two sets\n",
        "intersection = set1 & set2\n",
        "\n",
        "# Display the intersection\n",
        "print(\"Intersection of the two sets:\", intersection)"
      ],
      "metadata": {
        "colab": {
          "base_uri": "https://localhost:8080/"
        },
        "id": "uR-8ltooEPop",
        "outputId": "0df2e4f3-350b-40a7-b12d-cd9df64290aa"
      },
      "execution_count": null,
      "outputs": [
        {
          "output_type": "stream",
          "name": "stdout",
          "text": [
            "Enter the first set of integers separated by commas: 2,4,5,6\n",
            "Enter the second set of integers separated by commas: 4,6,5,7,8\n",
            "Intersection of the two sets: {4, 5, 6}\n"
          ]
        }
      ]
    },
    {
      "cell_type": "markdown",
      "source": [
        "**23. Write a code to concatenate two tuples. The function should take two tuples as input and return a new\n",
        "tuple containing elements from both input tuples.**"
      ],
      "metadata": {
        "id": "ZMOYTjBsEQFh"
      }
    },
    {
      "cell_type": "code",
      "source": [
        "def concatenate_tuples(tuple1, tuple2):\n",
        "    # Concatenate the two tuples\n",
        "    result = tuple1 + tuple2\n",
        "    return result\n",
        "\n",
        "# Example usage\n",
        "tuple1 = (1, 2, 3)\n",
        "tuple2 = (4, 5, 6)\n",
        "\n",
        "# Call the function and print the result\n",
        "concatenated_tuple = concatenate_tuples(tuple1, tuple2)\n",
        "print(\"Concatenated Tuple:\", concatenated_tuple)"
      ],
      "metadata": {
        "colab": {
          "base_uri": "https://localhost:8080/"
        },
        "id": "OBZ8N-qoEtHX",
        "outputId": "3370d3ca-64f8-44e4-bb56-bb735e455c99"
      },
      "execution_count": null,
      "outputs": [
        {
          "output_type": "stream",
          "name": "stdout",
          "text": [
            "Concatenated Tuple: (1, 2, 3, 4, 5, 6)\n"
          ]
        }
      ]
    },
    {
      "cell_type": "markdown",
      "source": [
        "**24. Develop a code that prompts the user to input two sets of strings. Then, print the elements that are\n",
        "present in the first set but not in the second set.**"
      ],
      "metadata": {
        "id": "uVu1zNqEEtta"
      }
    },
    {
      "cell_type": "code",
      "source": [
        "# Prompt the user to enter the first set of strings\n",
        "input1 = input(\"Enter the first set of strings separated by commas: \")\n",
        "# Convert the input string to a set of strings\n",
        "set1 = set(input1.split(','))\n",
        "\n",
        "# Prompt the user to enter the second set of strings\n",
        "input2 = input(\"Enter the second set of strings separated by commas: \")\n",
        "# Convert the input string to a set of strings\n",
        "set2 = set(input2.split(','))\n",
        "\n",
        "# Find the elements present in the first set but not in the second set\n",
        "difference = set1 - set2\n",
        "\n",
        "# Display the result\n",
        "print(\"Elements in the first set but not in the second set:\", difference)\n"
      ],
      "metadata": {
        "colab": {
          "base_uri": "https://localhost:8080/"
        },
        "id": "Jx0igUNtFFx2",
        "outputId": "064de9dc-7c5b-43a6-975e-7b383cb79812"
      },
      "execution_count": null,
      "outputs": [
        {
          "output_type": "stream",
          "name": "stdout",
          "text": [
            "Enter the first set of strings separated by commas: 2,4,5,9\n",
            "Enter the second set of strings separated by commas: 5,1,3,8\n",
            "Elements in the first set but not in the second set: {'2', '4', '9'}\n"
          ]
        }
      ]
    },
    {
      "cell_type": "markdown",
      "source": [
        "**25. Create a code that takes a tuple and two integers as input. The function should return a new tuple\n",
        "containing elements from the original tuple within the specified range of indices.**"
      ],
      "metadata": {
        "id": "e0RYL4PsFGWJ"
      }
    },
    {
      "cell_type": "code",
      "source": [
        "def elements_in_range(tpl, start, end):\n",
        "    # Ensure start and end are within bounds\n",
        "    if start < 0:\n",
        "        start = 0\n",
        "    if end > len(tpl):\n",
        "        end = len(tpl)\n",
        "    if start > end:\n",
        "        return tuple()  # Return an empty tuple if the range is invalid\n",
        "\n",
        "    # Return the slice of the tuple within the specified range\n",
        "    return tpl[start:end]\n",
        "\n",
        "# Example usage\n",
        "original_tuple = (10, 20, 30, 40, 50, 60)\n",
        "start_index = 2\n",
        "end_index = 5\n",
        "\n",
        "# Call the function and print the result\n",
        "result_tuple = elements_in_range(original_tuple, start_index, end_index)\n",
        "print(\"Elements in the specified range:\", result_tuple)"
      ],
      "metadata": {
        "colab": {
          "base_uri": "https://localhost:8080/"
        },
        "id": "bYaN7KztFcxP",
        "outputId": "538c0e4f-19d5-4b3a-938c-48cde7826a45"
      },
      "execution_count": null,
      "outputs": [
        {
          "output_type": "stream",
          "name": "stdout",
          "text": [
            "Elements in the specified range: (30, 40, 50)\n"
          ]
        }
      ]
    },
    {
      "cell_type": "markdown",
      "source": [
        "**26. Write a code that prompts the user to input two sets of characters. Then, print the union of these two sets.**"
      ],
      "metadata": {
        "id": "A_dfjkX0Fdch"
      }
    },
    {
      "cell_type": "code",
      "source": [
        "# Prompt the user to enter the first set of characters\n",
        "input1 = input(\"Enter the first set of characters separated by commas: \")\n",
        "# Convert the input string to a set of characters\n",
        "set1 = set(input1.replace(\" \", \"\").split(','))\n",
        "\n",
        "# Prompt the user to enter the second set of characters\n",
        "input2 = input(\"Enter the second set of characters separated by commas: \")\n",
        "# Convert the input string to a set of characters\n",
        "set2 = set(input2.replace(\" \", \"\").split(','))\n",
        "\n",
        "# Find the union of the two sets\n",
        "union = set1 | set2\n",
        "\n",
        "# Display the union\n",
        "print(\"Union of the two sets:\", union)"
      ],
      "metadata": {
        "colab": {
          "base_uri": "https://localhost:8080/"
        },
        "id": "ZM0bpGmQGGtH",
        "outputId": "743d22de-95f4-46ef-b0dd-148277b2007a"
      },
      "execution_count": null,
      "outputs": [
        {
          "output_type": "stream",
          "name": "stdout",
          "text": [
            "Enter the first set of characters separated by commas: 2,5,8,4\n",
            "Enter the second set of characters separated by commas: 6,9,4,2\n",
            "Union of the two sets: {'4', '8', '2', '9', '5', '6'}\n"
          ]
        }
      ]
    },
    {
      "cell_type": "markdown",
      "source": [
        "**27. Develop a code that takes a tuple of integers as input. The function should return the maximum and\n",
        "minimum values from the tuple using tuple unpacking.**"
      ],
      "metadata": {
        "id": "gTRiUXkhGHK6"
      }
    },
    {
      "cell_type": "code",
      "source": [
        "def find_max_min(t):\n",
        "    # Initialize max and min with the first element of the tuple\n",
        "    max_val, min_val = t[0], t[0]\n",
        "\n",
        "    # Iterate over the tuple\n",
        "    for value in t:\n",
        "        if value > max_val:\n",
        "            max_val = value\n",
        "        if value < min_val:\n",
        "            min_val = value\n",
        "\n",
        "    # Return the values using tuple unpacking\n",
        "    return max_val, min_val\n",
        "\n",
        "# Example usage:\n",
        "t = (4,5,2,1,9,7)\n",
        "max_value, min_value = find_max_min(t)\n",
        "print(\"Maximum value:\", max_value)\n",
        "print(\"Minimum value:\", min_value)"
      ],
      "metadata": {
        "id": "HzFl5YjxGXme",
        "colab": {
          "base_uri": "https://localhost:8080/"
        },
        "outputId": "edfb8d94-c8d6-404b-81f6-d03f9b1b7eff"
      },
      "execution_count": 1,
      "outputs": [
        {
          "output_type": "stream",
          "name": "stdout",
          "text": [
            "Maximum value: 9\n",
            "Minimum value: 1\n"
          ]
        }
      ]
    },
    {
      "cell_type": "markdown",
      "source": [
        "**28. Create a code that defines two sets of integers. Then, print the union, intersection, and difference of these\n",
        "two sets.**"
      ],
      "metadata": {
        "id": "h6i94uV0GYVw"
      }
    },
    {
      "cell_type": "code",
      "source": [
        "# Define two sets of integers\n",
        "set1 = {1, 8, 5, 4, 3}\n",
        "set2 = {5, 2, 3, 7, 9}\n",
        "\n",
        "# Union of set1 and set2\n",
        "union_set = set1 | set2  # or set1.union(set2)\n",
        "\n",
        "# Intersection of set1 and set2\n",
        "intersection_set = set1 & set2  # or set1.intersection(set2)\n",
        "\n",
        "# Difference of set1 and set2 (elements in set1 but not in set2)\n",
        "difference_set = set1 - set2  # or set1.difference(set2)\n",
        "\n",
        "# Print the results\n",
        "print(\"Union:\", union_set)\n",
        "print(\"Intersection:\", intersection_set)\n",
        "print(\"Difference (set1 - set2):\", difference_set)"
      ],
      "metadata": {
        "colab": {
          "base_uri": "https://localhost:8080/"
        },
        "id": "QnAz-YAArBna",
        "outputId": "e4f3b8f4-7f26-4e51-dc32-6b2f2c4330c5"
      },
      "execution_count": 2,
      "outputs": [
        {
          "output_type": "stream",
          "name": "stdout",
          "text": [
            "Union: {1, 2, 3, 4, 5, 7, 8, 9}\n",
            "Intersection: {3, 5}\n",
            "Difference (set1 - set2): {8, 1, 4}\n"
          ]
        }
      ]
    },
    {
      "cell_type": "markdown",
      "source": [
        "**29. Write a code that takes a tuple and an element as input. The function should return the count of\n",
        "occurrences of the given element in the tuple.**"
      ],
      "metadata": {
        "id": "GNofbkGXrowr"
      }
    },
    {
      "cell_type": "code",
      "source": [
        "def count_occurrences(t, element):\n",
        "    count = 0\n",
        "\n",
        "    # Iterate over the tuple and count the occurrences of the element\n",
        "    for value in t:\n",
        "        if value == element:\n",
        "            count += 1\n",
        "\n",
        "    return count\n",
        "\n",
        "# Example usage:\n",
        "t = (1, 2, 3, 4, 2, 2, 5)\n",
        "element = 2\n",
        "result = count_occurrences(t, element)\n",
        "\n",
        "print(f\"Element {element} occurs {result} times in the tuple {t}.\")"
      ],
      "metadata": {
        "colab": {
          "base_uri": "https://localhost:8080/"
        },
        "id": "JhmiRSiIrkew",
        "outputId": "bf899050-99c9-4d9a-b856-1945477cac4a"
      },
      "execution_count": 3,
      "outputs": [
        {
          "output_type": "stream",
          "name": "stdout",
          "text": [
            "Element 2 occurs 3 times in the tuple (1, 2, 3, 4, 2, 2, 5).\n"
          ]
        }
      ]
    },
    {
      "cell_type": "markdown",
      "source": [
        "**30. Develop a code that prompts the user to input two sets of strings. Then, print the symmetric difference of\n",
        "these two sets.**"
      ],
      "metadata": {
        "id": "787b5ejQr1Hw"
      }
    },
    {
      "cell_type": "code",
      "source": [
        "# Function to get a set of strings from user input\n",
        "def input_set(prompt):\n",
        "    return set(input(prompt).split(','))\n",
        "\n",
        "# Prompt user to input two sets of strings\n",
        "set1 = input_set(\"Enter elements of the first set (commas-separated): \")\n",
        "set2 = input_set(\"Enter elements of the second set (commas-separated): \")\n",
        "\n",
        "# Calculate the symmetric difference (elements in either set, but not both)\n",
        "# symmetric difference returns the elements that are in either of the two sets but not in both\n",
        "symmetric_difference = set1 ^ set2  # or set1.symmetric_difference(set2)\n",
        "\n",
        "# Print the result\n",
        "print(\"Symmetric Difference:\", symmetric_difference)"
      ],
      "metadata": {
        "colab": {
          "base_uri": "https://localhost:8080/"
        },
        "id": "1xQitf3FsIPG",
        "outputId": "cd020e4a-5405-48a9-b702-20d47afcd1e4"
      },
      "execution_count": 6,
      "outputs": [
        {
          "output_type": "stream",
          "name": "stdout",
          "text": [
            "Enter elements of the first set (commas-separated): sudhakar,data science,pw skills\n",
            "Enter elements of the second set (commas-separated): course,data science,india\n",
            "Symmetric Difference: {'course', 'sudhakar', 'india', 'pw skills'}\n"
          ]
        }
      ]
    },
    {
      "cell_type": "markdown",
      "source": [
        "**31.  Write a code that takes a list of words as input and returns a dictionary where the keys are unique words\n",
        "and the values are the frequencies of those words in the input list.**"
      ],
      "metadata": {
        "id": "GrHXdJCFsZ4-"
      }
    },
    {
      "cell_type": "code",
      "source": [
        "def word_frequencies(word_list):\n",
        "    frequency_dict = {}\n",
        "\n",
        "    # Iterate through the list of words\n",
        "    for word in word_list:\n",
        "        # If the word is already a key in the dictionary, increment its count\n",
        "        if word in frequency_dict:\n",
        "            frequency_dict[word] += 1\n",
        "        # Otherwise, initialize its count to 1\n",
        "        else:\n",
        "            frequency_dict[word] = 1\n",
        "\n",
        "    return frequency_dict\n",
        "\n",
        "# Example usage:\n",
        "words = input(\"Enter a list of words (space-separated): \").split()\n",
        "result = word_frequencies(words)\n",
        "\n",
        "print(\"dictionary {unique word : Word frequencies} : \", result)"
      ],
      "metadata": {
        "colab": {
          "base_uri": "https://localhost:8080/"
        },
        "id": "ommcIPfNts9X",
        "outputId": "dd283212-8b3f-451d-c108-027b7bf5e7e7"
      },
      "execution_count": 7,
      "outputs": [
        {
          "output_type": "stream",
          "name": "stdout",
          "text": [
            "Enter a list of words (space-separated): sudhakar pwskills sudhakar data_science jordan data_science pwskills megha data_science\n",
            "dictionary {unique word : Word frequencies} :  {'sudhakar': 2, 'pwskills': 2, 'data_science': 3, 'jordan': 1, 'megha': 1}\n"
          ]
        }
      ]
    },
    {
      "cell_type": "markdown",
      "source": [
        "**32.  Write a code that takes two dictionaries as input and merges them into a single dictionary. If there are\n",
        "common keys, the values should be added together**"
      ],
      "metadata": {
        "id": "6B3jtkO3tt-r"
      }
    },
    {
      "cell_type": "code",
      "source": [
        "def merge_dictionaries(dict1, dict2):\n",
        "    merged_dict = dict1.copy()  # Start with a copy of dict1 to avoid modifying the original\n",
        "\n",
        "    # Iterate through dict2 to merge with dict1\n",
        "    for key, value in dict2.items():\n",
        "        if key in merged_dict:\n",
        "            # If the key exists in both dictionaries, add the values\n",
        "            merged_dict[key] += value\n",
        "        else:\n",
        "            # If the key is only in dict2, add it to merged_dict\n",
        "            merged_dict[key] = value\n",
        "\n",
        "    return merged_dict\n",
        "\n",
        "# Example usage:\n",
        "dict1 = {'guava': 3, 'banana': 7, 'orange': 2}\n",
        "dict2 = {'banana': 3, 'grape': 4, 'guava': 1, 'strawberry': 5}\n",
        "\n",
        "result = merge_dictionaries(dict1, dict2)\n",
        "\n",
        "print(\"Merged dictionary:\", result)"
      ],
      "metadata": {
        "colab": {
          "base_uri": "https://localhost:8080/"
        },
        "id": "cCgB_QNpvXnH",
        "outputId": "a555b851-23f3-470a-831b-aa28f5b3c7b3"
      },
      "execution_count": 9,
      "outputs": [
        {
          "output_type": "stream",
          "name": "stdout",
          "text": [
            "Merged dictionary: {'guava': 4, 'banana': 10, 'orange': 2, 'grape': 4, 'strawberry': 5}\n"
          ]
        }
      ]
    },
    {
      "cell_type": "markdown",
      "source": [
        "**33. Write a code to access a value in a nested dictionary. The function should take the dictionary and a list of\n",
        "keys as input, and return the corresponding value. If any of the keys do not exist in the dictionary, the\n",
        "function should return None.**"
      ],
      "metadata": {
        "id": "tiANJQSbvjM3"
      }
    },
    {
      "cell_type": "code",
      "source": [
        "def get_nested_value(d, keys):\n",
        "    current_value = d\n",
        "\n",
        "    # Iterate through the list of keys\n",
        "    for key in keys:\n",
        "        if key in current_value:\n",
        "            current_value = current_value[key]  # Update current_value to the next level\n",
        "        else:\n",
        "            return None  # If the key does not exist, return None\n",
        "\n",
        "    return current_value  # Return the value at the last key\n",
        "\n",
        "# Example usage:\n",
        "nested_dict = {\n",
        "    'ant': {\n",
        "        'ball': {\n",
        "            'cat': 25\n",
        "        }\n",
        "    },\n",
        "    'biryani': {\n",
        "        'price': 299\n",
        "    }\n",
        "}\n",
        "\n",
        "keys = ['ant', 'ball', 'cat']  # Path to access the value 42\n",
        "result = get_nested_value(nested_dict, keys)\n",
        "\n",
        "print(\"Value:\", result)"
      ],
      "metadata": {
        "colab": {
          "base_uri": "https://localhost:8080/"
        },
        "id": "zcQuSxgJwWsZ",
        "outputId": "69d63fcb-2aaf-4049-d260-e45ed1900cb0"
      },
      "execution_count": 11,
      "outputs": [
        {
          "output_type": "stream",
          "name": "stdout",
          "text": [
            "Value: 25\n"
          ]
        }
      ]
    },
    {
      "cell_type": "markdown",
      "source": [
        "**34. Write a code that takes a dictionary as input and returns a sorted version of it based on the values. You\n",
        "can choose whether to sort in ascending or descending order.**"
      ],
      "metadata": {
        "id": "WrzTs_01wXKf"
      }
    },
    {
      "cell_type": "code",
      "source": [
        "def sort_dict_by_values(d, ascending=True):\n",
        "    # Sort the dictionary by its values\n",
        "    sorted_dict = dict(sorted(d.items(), key=lambda item: item[1], reverse=not ascending))\n",
        "\n",
        "    ''' d.items() returns the dictionary items as (key, value) pairs.\n",
        "        key=lambda item: item[1] tells sorted() to sort by the second element (the value) in each tuple.\n",
        "        The reverse=not ascending argument allows toggling between ascending (True) and descending (False) sorting.'''\n",
        "\n",
        "    return sorted_dict\n",
        "\n",
        "# Example usage:\n",
        "input_dict = {'student': 245, 'male': 145, 'female': 100, 'no_of_courses': 21}\n",
        "\n",
        "# Sort in ascending order\n",
        "sorted_dict_asc = sort_dict_by_values(input_dict, ascending=True)\n",
        "print(\"Sorted dictionary (ascending):\", sorted_dict_asc)\n",
        "\n",
        "# Sort in descending order\n",
        "sorted_dict_desc = sort_dict_by_values(input_dict, ascending=False)\n",
        "print(\"Sorted dictionary (descending):\", sorted_dict_desc)"
      ],
      "metadata": {
        "colab": {
          "base_uri": "https://localhost:8080/"
        },
        "id": "xaoJRC5jyVeO",
        "outputId": "bbbca022-3b56-4bb0-e900-55b986c8d9b9"
      },
      "execution_count": 12,
      "outputs": [
        {
          "output_type": "stream",
          "name": "stdout",
          "text": [
            "Sorted dictionary (ascending): {'no_of_courses': 21, 'female': 100, 'male': 145, 'student': 245}\n",
            "Sorted dictionary (descending): {'student': 245, 'male': 145, 'female': 100, 'no_of_courses': 21}\n"
          ]
        }
      ]
    },
    {
      "cell_type": "markdown",
      "source": [
        "**35. Write a code that inverts a dictionary, swapping keys and values. Ensure that the inverted dictionary\n",
        "correctly handles cases where multiple keys have the same value by storing the keys as a list in the\n",
        "inverted dictionary.**"
      ],
      "metadata": {
        "id": "QLVZMUytyWAe"
      }
    },
    {
      "cell_type": "code",
      "source": [
        "# defining a dictionary :\n",
        "original_dict = {'apple': 'fruit', 'carrot': 'vegetable', 'banana': 'fruit', 'broccoli': 'vegetable'}\n",
        "\n",
        "inverted_dict = {}\n",
        "\n",
        "# Iterate through the original dictionary\n",
        "for key, value in original_dict.items():\n",
        "    if value in inverted_dict:\n",
        "        # If the value is already a key in inverted_dict, append the current key to the list\n",
        "        inverted_dict[value].append(key)\n",
        "    else:\n",
        "        # If the value is not in inverted_dict, create a new entry with the current key\n",
        "        inverted_dict[value] = [key]\n",
        "\n",
        "print(\"Inverted dictionary:\", inverted_dict)"
      ],
      "metadata": {
        "colab": {
          "base_uri": "https://localhost:8080/"
        },
        "id": "Kh32ZFZU2mgA",
        "outputId": "f693196d-3bc8-4a48-b2f4-065e3326ba49"
      },
      "execution_count": 16,
      "outputs": [
        {
          "output_type": "stream",
          "name": "stdout",
          "text": [
            "Inverted dictionary: {'fruit': ['apple', 'banana'], 'vegetable': ['carrot', 'broccoli']}\n"
          ]
        }
      ]
    }
  ]
}